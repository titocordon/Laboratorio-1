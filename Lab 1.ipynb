{
 "cells": [
  {
   "cell_type": "markdown",
   "id": "579469f8-a45b-441e-b313-ca28a19973fd",
   "metadata": {},
   "source": [
    "# ¿Qué es Git?\n"
   ]
  },
  {
   "cell_type": "markdown",
   "id": "214ef23a-820e-4150-8918-c9d1132bd543",
   "metadata": {
    "tags": []
   },
   "source": [
    "Un sistema de control de versiones o VCS (Version Control System, por sus siglas en inglés), rastrea el historial de cambios conforme las personas y los equipos colaboran juntos en los proyectos. Conforme los desarrolladores hacen cambios al proyecto, cualquier versión anterior de este puede recuperarse en cualquier momento.\n",
    "Los desarrolladores pueden revisar el historial de proyectos para averiguar:\n",
    "•\t¿Qué cambios se hicieron?\n",
    "•\t¿Quién los hizo?\n",
    "•\t¿Cuándo se hicieron?\n",
    "•\t¿Por qué se necesitaban?\n",
    "Los VCS le proporcionan a cada contribuyente una vista consistente y unificada de un proyecto, lo cual muestra el trabajo que ya está en progreso. El ver un historial de cambios transparente, quién los hizo y cómo contribuyen al desarrollo de un proyecto, ayuda a que los miembros de los equipos se alineen mientras trabajan independientemente.\n",
    "Los proyectos de la vida real generalmente tienen múltiples desarrolladores trabajando en paralelo. Así que necesitan un sistema de control de versiones como Git para asegurarse de que no hay conflictos de código entre ellos.\n",
    "Además, los requerimientos en este tipo de proyectos cambian constantemente. Así que un sistema de control de versiones permite a los desarrolladores revertir y regresar a una versión anterior de su código.\n",
    "El sistema de ramas en Git permite a los desarrolladores trabajar individualmente en una tarea (Por ejemplo: una rama -> una tarea O una Rama -> un desarrollador). Básicamente, se puede pensar en Git como una aplicación de software pequeña que controla tu código base, si eres un desarrollador.\n",
    "Repositorios Git:\n",
    "Si queremos empezar a usar Git, necesitamos saber dónde alojar nuestros repositorios.\n",
    "Un repositorio (o \"Repo\" para abreviar) es un proyecto que contiene múltiples archivos. En nuestro caso un repositorio contendrá archivos basados en código. Hay dos maneras en que puedes alojar tus repositorios. Uno es en línea (en la nube) y la segunda es fuera de línea (auto-instalado en tu servidor). Hay tres servicios de alojamiento popular de Git: GitHub (propiedad de Microsoft), GitLab (propiedad de GitLab) y BitBucket. Usaremos GitHub como nuestro servicio de alojamiento.\n",
    "\n"
   ]
  },
  {
   "cell_type": "markdown",
   "id": "5eeea84e-5ff3-4981-a07e-44272eb7ef27",
   "metadata": {},
   "source": [
    "¿ Qué es Github?"
   ]
  },
  {
   "cell_type": "markdown",
   "id": "887e3113-3823-4c2b-8469-0c5b306c0242",
   "metadata": {},
   "source": [
    "GitHub es una plataforma en línea que utiliza el sistema de control de versiones Git para ayudar a los desarrolladores a colaborar en proyectos de software. Es como una red social para desarrolladores, donde pueden compartir su código, colaborar en proyectos, realizar un seguimiento de problemas y realizar comentarios sobre el trabajo de los demás.\n",
    "En GitHub, los desarrolladores pueden crear \"repositorios\" para almacenar su código y colaborar con otros. Pueden realizar cambios en el código (llamados \"commits\"), crear \"ramas\" para trabajar en nuevas características o correcciones de errores sin afectar la versión principal del proyecto, y luego fusionar esos cambios de vuelta cuando estén listos.\n",
    "Además, GitHub proporciona herramientas para administrar proyectos de software, como seguimiento de problemas (issues), solicitudes de extracción (pull requests), wikis para documentación y más. Es una plataforma muy popular y ampliamente utilizada en la comunidad de desarrollo de software.\n",
    "Colaboración en Proyectos de Código Abierto: GitHub es el hogar de miles de proyectos de código abierto. Estos proyectos son mantenidos por una comunidad de desarrolladores voluntarios que contribuyen con su tiempo y habilidades para mejorar el software. Por ejemplo, el proyecto de software libre \"TensorFlow\" de Google, que es una popular biblioteca de aprendizaje automático y de inteligencia artificial, tiene su repositorio principal alojado en GitHub. Los desarrolladores de todo el mundo pueden colaborar en el código, informar sobre problemas (issues), y enviar solicitudes de extracción (pull requests) para mejorar TensorFlow.\n",
    "Gestión de Proyectos de Desarrollo de Software: Muchas empresas y equipos de desarrollo utilizan GitHub para gestionar sus proyectos de software. Por ejemplo, supongamos que una empresa está desarrollando una aplicación móvil. En GitHub, pueden tener un repositorio para el código fuente de la aplicación, donde los desarrolladores trabajan en diferentes características en ramas separadas. Utilizan problemas (issues) para realizar un seguimiento de errores y características planeadas. Cuando un desarrollador completa una nueva función o soluciona un error, envían una solicitud de extracción (pull request) para revisión y posterior integración en la rama principal del proyecto. Todo este proceso se realiza de manera transparente en GitHub, lo que facilita la colaboración y la gestión del proyecto.\n"
   ]
  },
  {
   "cell_type": "markdown",
   "id": "6df7c3f4-b352-439a-8766-39d9012f8be7",
   "metadata": {},
   "source": [
    "MagicCells"
   ]
  },
  {
   "cell_type": "markdown",
   "id": "ac531a4e-74c8-430a-94ab-f428d9f89e39",
   "metadata": {},
   "source": [
    "En Jupyter Notebook, hay algo llamado \"magic commands\" o comandos mágicos, que son atajos de una sola línea que te permiten realizar acciones específicas. Estos comandos mágicos comienzan con % si son para una sola línea y %% si son para toda una celda. Uno de los comandos mágicos más útiles es %matplotlib, que permite mostrar gráficos en línea en un cuaderno Jupyter."
   ]
  }
 ],
 "metadata": {
  "kernelspec": {
   "display_name": "Python 3 (ipykernel)",
   "language": "python",
   "name": "python3"
  },
  "language_info": {
   "codemirror_mode": {
    "name": "ipython",
    "version": 3
   },
   "file_extension": ".py",
   "mimetype": "text/x-python",
   "name": "python",
   "nbconvert_exporter": "python",
   "pygments_lexer": "ipython3",
   "version": "3.11.5"
  }
 },
 "nbformat": 4,
 "nbformat_minor": 5
}
